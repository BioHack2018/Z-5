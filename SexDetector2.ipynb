{
 "cells": [
  {
   "cell_type": "code",
   "execution_count": 157,
   "metadata": {},
   "outputs": [],
   "source": [
    "import numpy as np\n",
    "import os\n",
    "\n",
    "import pandas\n",
    "import matplotlib.pyplot as plt\n",
    "from sklearn import model_selection\n",
    "from sklearn.linear_model import LogisticRegression\n",
    "from sklearn.tree import DecisionTreeClassifier\n",
    "from sklearn.neighbors import KNeighborsClassifier\n",
    "from sklearn.discriminant_analysis import LinearDiscriminantAnalysis\n",
    "from sklearn.naive_bayes import GaussianNB\n",
    "from sklearn.svm import SVC\n",
    "\n",
    "\n",
    "# to make this notebook's output stable across runs\n",
    "np.random.seed(42)\n",
    "\n",
    "BIODATA_PATH=\"/home/wlos/Biohackaton 2018/newdata/\"\n",
    "\n",
    "import numpy as np\n",
    "import pandas as pd\n",
    "import sklearn.linear_model\n",
    "\n",
    "import pandas as pd\n",
    "\n",
    "def load_data(path=BIODATA_PATH):\n",
    "    print(\"Loading data\")\n",
    "    csv_path = os.path.join(path, \"HACK.first500.fixed.withheader.csv\")\n",
    "    return pd.read_csv(csv_path)\n"
   ]
  },
  {
   "cell_type": "code",
   "execution_count": 158,
   "metadata": {},
   "outputs": [
    {
     "name": "stdout",
     "output_type": "stream",
     "text": [
      "Loading data\n"
     ]
    }
   ],
   "source": [
    "data=load_data()"
   ]
  },
  {
   "cell_type": "code",
   "execution_count": 159,
   "metadata": {},
   "outputs": [
    {
     "data": {
      "text/plain": [
       "<bound method DataFrame.head of      familyId  sampleId  sex  affected  rs6599770  rs12440100  rs12906138  \\\n",
       "0           3    19Y384  2.0       1.0        6.0         7.0         7.0   \n",
       "1           4    19Y382  2.0       2.0        6.0         4.0         7.0   \n",
       "2           5    19Y411  1.0       2.0        6.0         4.0         4.0   \n",
       "3           6    19Y406  2.0       2.0        3.0         4.0         7.0   \n",
       "4           7    19Y448  2.0       2.0        3.0         4.0         4.0   \n",
       "5           8    19Y241  1.0       1.0        1.0         7.0         7.0   \n",
       "6           9    19Y338  1.0       2.0        3.0         4.0         1.0   \n",
       "7          10    19Y368  2.0      -9.0        1.0         4.0         4.0   \n",
       "8          11    19Y394  2.0       1.0        3.0         4.0         7.0   \n",
       "9          12    19Y386  1.0       1.0        3.0         7.0         7.0   \n",
       "10         13    19Y418  2.0       2.0        3.0         4.0         1.0   \n",
       "11         14    19Y444  2.0       2.0        3.0         4.0         7.0   \n",
       "12         15    19Y441  2.0      -9.0        3.0         4.0         4.0   \n",
       "13         16    19Y242  1.0       2.0        3.0         4.0         1.0   \n",
       "14         17  19Y3219Y  2.0       1.0        6.0         4.0         7.0   \n",
       "15         18    19Y365  1.0       2.0        3.0         7.0         1.0   \n",
       "16         19    19Y399  1.0       2.0        6.0         4.0         4.0   \n",
       "17         20    19Y393  1.0       1.0        6.0         4.0         4.0   \n",
       "18         21    19Y401  2.0       1.0        6.0         7.0         7.0   \n",
       "19         22    19Y443  2.0       1.0        6.0         7.0         7.0   \n",
       "20         23    19Y442  2.0       2.0        6.0         4.0         7.0   \n",
       "21         24    19Y234  2.0      -9.0        6.0         7.0         7.0   \n",
       "22         25  19Y3319Y  1.0      -9.0        6.0         4.0         7.0   \n",
       "23         26    19Y361  2.0      -9.0        3.0         7.0         7.0   \n",
       "24         27  19Y3819Y  1.0       2.0        6.0         4.0         7.0   \n",
       "25         28  19Y3919Y  1.0       2.0        3.0         4.0         7.0   \n",
       "26         30    19Y435  2.0       1.0        3.0         7.0         1.0   \n",
       "27         31  19Y4319Y  1.0       1.0        6.0         4.0         7.0   \n",
       "28         32    19Y230  1.0       1.0        3.0         7.0         7.0   \n",
       "29         33    19Y333  2.0       1.0        3.0         7.0         7.0   \n",
       "..        ...       ...  ...       ...        ...         ...         ...   \n",
       "470       504       650  2.0      -9.0        6.0         4.0         7.0   \n",
       "471       505       501  1.0      -9.0        3.0         7.0         1.0   \n",
       "472       506       542  2.0       1.0        3.0         4.0         7.0   \n",
       "473       507       626  2.0       2.0        6.0         4.0         4.0   \n",
       "474       508       639  2.0       1.0        3.0         4.0         7.0   \n",
       "475       509       563  1.0       2.0        6.0         7.0         7.0   \n",
       "476       510     5519Y  1.0       2.0        3.0         7.0         7.0   \n",
       "477       511     5919Y  1.0      -9.0        3.0         7.0         7.0   \n",
       "478       512     619Y4  2.0       2.0        3.0         7.0         7.0   \n",
       "479       515       549  1.0      -9.0        3.0         4.0         4.0   \n",
       "480       516       555  2.0       1.0        3.0         4.0         7.0   \n",
       "481       517       559  1.0       1.0        1.0         4.0         4.0   \n",
       "482       518       586  1.0       2.0        3.0         4.0         4.0   \n",
       "483       519       596  1.0       1.0        6.0         4.0         7.0   \n",
       "484       520       612  1.0       1.0        3.0         7.0         1.0   \n",
       "485       521       643  1.0       2.0        6.0         4.0         7.0   \n",
       "486       522       544  2.0      -9.0        3.0         4.0         7.0   \n",
       "487       523       530  2.0      -9.0        3.0         4.0         1.0   \n",
       "488       524       564  1.0       2.0        6.0         4.0         7.0   \n",
       "489       525       569  1.0      -9.0        3.0         4.0         4.0   \n",
       "490       526       599  2.0       2.0        3.0         7.0         1.0   \n",
       "491       527       645  2.0      -9.0        3.0         4.0         4.0   \n",
       "492       528       622  2.0       1.0        6.0         7.0         7.0   \n",
       "493       529       514  1.0       1.0        1.0         4.0         7.0   \n",
       "494       530       642  1.0       1.0        1.0         4.0         4.0   \n",
       "495       531       540  1.0       1.0        6.0         7.0         7.0   \n",
       "496       532       648  1.0       1.0        0.0         4.0         4.0   \n",
       "497       535       584  1.0       2.0        3.0         4.0         4.0   \n",
       "498       536       601  2.0       1.0        6.0         7.0         7.0   \n",
       "499       537       519  2.0      -9.0        6.0         4.0         4.0   \n",
       "\n",
       "     rs7179358  kgp6444009  rs4932078     ...      exm1194798  exm1194803  \\\n",
       "0          1.0        11.0        9.0     ...             1.0         4.0   \n",
       "1          1.0        11.0        9.0     ...             1.0         4.0   \n",
       "2         14.0        11.0        9.0     ...             1.0         4.0   \n",
       "3          4.0         1.0        3.0     ...             1.0         7.0   \n",
       "4          4.0         1.0        3.0     ...             1.0         4.0   \n",
       "5          1.0         0.0        9.0     ...             1.0         4.0   \n",
       "6          1.0         1.0        3.0     ...             1.0         4.0   \n",
       "7          1.0         3.0        2.0     ...             1.0         4.0   \n",
       "8         14.0         1.0        9.0     ...             1.0         4.0   \n",
       "9         14.0         1.0        3.0     ...             1.0         4.0   \n",
       "10         1.0         1.0        3.0     ...             1.0         4.0   \n",
       "11         4.0         1.0        3.0     ...             1.0         4.0   \n",
       "12         4.0         1.0        3.0     ...             1.0         4.0   \n",
       "13        14.0         1.0        3.0     ...             1.0         4.0   \n",
       "14         1.0        11.0        9.0     ...             1.0         4.0   \n",
       "15        14.0         1.0        3.0     ...             1.0         4.0   \n",
       "16        14.0        11.0        9.0     ...             1.0         4.0   \n",
       "17        14.0        11.0        9.0     ...             1.0         4.0   \n",
       "18         1.0        11.0        9.0     ...             1.0         4.0   \n",
       "19         1.0        11.0        9.0     ...             1.0         4.0   \n",
       "20         1.0        11.0        9.0     ...             1.0         4.0   \n",
       "21         1.0        11.0        9.0     ...             1.0         4.0   \n",
       "22         1.0        11.0        9.0     ...             1.0         4.0   \n",
       "23        14.0         1.0        3.0     ...             1.0         4.0   \n",
       "24         1.0        11.0        9.0     ...             1.0         4.0   \n",
       "25        14.0         1.0        3.0     ...             1.0         4.0   \n",
       "26         1.0         1.0        3.0     ...             1.0         4.0   \n",
       "27         1.0        11.0        9.0     ...             1.0         4.0   \n",
       "28        14.0         1.0        3.0     ...             1.0         4.0   \n",
       "29        14.0         1.0        3.0     ...             1.0         4.0   \n",
       "..         ...         ...        ...     ...             ...         ...   \n",
       "470        1.0        11.0        9.0     ...             1.0         4.0   \n",
       "471        1.0         1.0        3.0     ...             1.0         4.0   \n",
       "472       14.0         1.0        3.0     ...             1.0         7.0   \n",
       "473       14.0        11.0        9.0     ...             1.0         4.0   \n",
       "474       14.0         1.0        3.0     ...             1.0         7.0   \n",
       "475        1.0        11.0        9.0     ...             1.0         4.0   \n",
       "476       14.0         1.0        3.0     ...             1.0         4.0   \n",
       "477       14.0         1.0        3.0     ...             1.0         4.0   \n",
       "478       14.0         1.0        3.0     ...             1.0         7.0   \n",
       "479        4.0         1.0        3.0     ...             1.0         4.0   \n",
       "480       14.0         1.0        3.0     ...             1.0         4.0   \n",
       "481        1.0         3.0        2.0     ...             1.0         7.0   \n",
       "482        4.0         1.0        3.0     ...             1.0         7.0   \n",
       "483        1.0        11.0        9.0     ...             1.0         4.0   \n",
       "484        1.0         1.0        3.0     ...             1.0         4.0   \n",
       "485        1.0        11.0        9.0     ...             1.0         4.0   \n",
       "486       14.0         1.0        3.0     ...             1.0         4.0   \n",
       "487       14.0         1.0        3.0     ...             1.0         4.0   \n",
       "488       14.0        11.0        9.0     ...             1.0         4.0   \n",
       "489        4.0         1.0        3.0     ...             1.0         4.0   \n",
       "490        1.0         1.0        3.0     ...             1.0         4.0   \n",
       "491        4.0         1.0        3.0     ...             1.0         4.0   \n",
       "492        1.0        11.0        9.0     ...             1.0         4.0   \n",
       "493        1.0        11.0        9.0     ...             1.0         4.0   \n",
       "494        1.0         3.0        2.0     ...             1.0         4.0   \n",
       "495       14.0        11.0        9.0     ...             1.0         4.0   \n",
       "496        1.0         3.0        2.0     ...             1.0         4.0   \n",
       "497        4.0         1.0        3.0     ...             1.0         4.0   \n",
       "498        1.0        11.0        9.0     ...             1.0         4.0   \n",
       "499       14.0        11.0        9.0     ...             1.0         4.0   \n",
       "\n",
       "     exm1194806  rs7182651  rs7180058  rs2203349  exm1194810  exm2274791  \\\n",
       "0           3.0        4.0        4.0        9.0         3.0         3.0   \n",
       "1           3.0        7.0        4.0        3.0         3.0         3.0   \n",
       "2           3.0        7.0        4.0        2.0         9.0         3.0   \n",
       "3           3.0        7.0        4.0        2.0         3.0         3.0   \n",
       "4           3.0        7.0        4.0        3.0         3.0         3.0   \n",
       "5           3.0        4.0        4.0        3.0         3.0         3.0   \n",
       "6           3.0        4.0        4.0        3.0         3.0         3.0   \n",
       "7           3.0        1.0        4.0        3.0         3.0         3.0   \n",
       "8           3.0        7.0        4.0        9.0         9.0         3.0   \n",
       "9           3.0        7.0        4.0        3.0         3.0         3.0   \n",
       "10          3.0        7.0        4.0        2.0         3.0         3.0   \n",
       "11          3.0        7.0        4.0        2.0         9.0         3.0   \n",
       "12          3.0        7.0        4.0        9.0         3.0         3.0   \n",
       "13          3.0        7.0        4.0        2.0         3.0         3.0   \n",
       "14          3.0        4.0        4.0        3.0         3.0         3.0   \n",
       "15          3.0        7.0        4.0        2.0         3.0         3.0   \n",
       "16          3.0        7.0        4.0        3.0         3.0         3.0   \n",
       "17          3.0        1.0        4.0        9.0         9.0         3.0   \n",
       "18          3.0        7.0        4.0        3.0         3.0         3.0   \n",
       "19          3.0        4.0        4.0        3.0         3.0         3.0   \n",
       "20          3.0        7.0        4.0        3.0         3.0         3.0   \n",
       "21          3.0        7.0        4.0        9.0         3.0         3.0   \n",
       "22          3.0        4.0        4.0        9.0         3.0         3.0   \n",
       "23          3.0        7.0        4.0        9.0         3.0         3.0   \n",
       "24          3.0        7.0        4.0        9.0         3.0         3.0   \n",
       "25          3.0        1.0        4.0        3.0         3.0         3.0   \n",
       "26          3.0        7.0        4.0        2.0         9.0         3.0   \n",
       "27          3.0        7.0        4.0        3.0         3.0         3.0   \n",
       "28          3.0        4.0        4.0        3.0         3.0         3.0   \n",
       "29          3.0        4.0        4.0        2.0         3.0         3.0   \n",
       "..          ...        ...        ...        ...         ...         ...   \n",
       "470         3.0        4.0        4.0        9.0         3.0         3.0   \n",
       "471         3.0        4.0        4.0        3.0         3.0         3.0   \n",
       "472         3.0        1.0        4.0        3.0         3.0         3.0   \n",
       "473         3.0        7.0        4.0        3.0         3.0         3.0   \n",
       "474         3.0        7.0        4.0        9.0         3.0         3.0   \n",
       "475         3.0        7.0        4.0        3.0         3.0         3.0   \n",
       "476         3.0        1.0        4.0        9.0         9.0         3.0   \n",
       "477         3.0        7.0        4.0        3.0         3.0         3.0   \n",
       "478         3.0        1.0        4.0        9.0         3.0         3.0   \n",
       "479         3.0        7.0        4.0        3.0         3.0         3.0   \n",
       "480         3.0        4.0        4.0        3.0         3.0         3.0   \n",
       "481         3.0        7.0        4.0        2.0         3.0         3.0   \n",
       "482         3.0        7.0        4.0        9.0         3.0         3.0   \n",
       "483         3.0        4.0        4.0        2.0         3.0         3.0   \n",
       "484         3.0        1.0        4.0        3.0         3.0         3.0   \n",
       "485         3.0        4.0        4.0        9.0         3.0         3.0   \n",
       "486         3.0        4.0        4.0        3.0         3.0         3.0   \n",
       "487         3.0        7.0        4.0        9.0         3.0         3.0   \n",
       "488         3.0        4.0        4.0        3.0         3.0         3.0   \n",
       "489         3.0        4.0        4.0        3.0         3.0         3.0   \n",
       "490         3.0        4.0        4.0        9.0         3.0         3.0   \n",
       "491         3.0        4.0        4.0        9.0         3.0         3.0   \n",
       "492         3.0        1.0        4.0        9.0         9.0         3.0   \n",
       "493         3.0        4.0        4.0        9.0         3.0         3.0   \n",
       "494         3.0        4.0        4.0        3.0         3.0         3.0   \n",
       "495         3.0        7.0        4.0        9.0         9.0         3.0   \n",
       "496         3.0        4.0        4.0        2.0         3.0         3.0   \n",
       "497         3.0        4.0        4.0        9.0         3.0         3.0   \n",
       "498         3.0        4.0        4.0        9.0         3.0         3.0   \n",
       "499         3.0        4.0        4.0        2.0         3.0         3.0   \n",
       "\n",
       "     rs13329121  rs11247329  \n",
       "0           2.0         9.0  \n",
       "1          12.0         2.0  \n",
       "2           2.0         9.0  \n",
       "3           2.0         9.0  \n",
       "4          12.0         2.0  \n",
       "5           2.0         2.0  \n",
       "6           2.0         2.0  \n",
       "7           3.0         2.0  \n",
       "8          12.0         0.0  \n",
       "9          12.0         2.0  \n",
       "10          2.0         9.0  \n",
       "11         12.0         9.0  \n",
       "12          2.0         0.0  \n",
       "13          2.0         0.0  \n",
       "14          2.0         2.0  \n",
       "15          2.0         0.0  \n",
       "16         12.0         2.0  \n",
       "17          2.0         0.0  \n",
       "18          2.0         9.0  \n",
       "19          2.0         2.0  \n",
       "20         12.0         2.0  \n",
       "21          2.0         0.0  \n",
       "22          2.0         9.0  \n",
       "23          3.0         2.0  \n",
       "24         12.0         9.0  \n",
       "25          3.0         2.0  \n",
       "26          2.0         9.0  \n",
       "27         12.0         2.0  \n",
       "28          2.0         9.0  \n",
       "29          2.0         9.0  \n",
       "..          ...         ...  \n",
       "470         2.0         9.0  \n",
       "471         2.0         9.0  \n",
       "472         2.0         9.0  \n",
       "473        12.0         2.0  \n",
       "474         2.0         0.0  \n",
       "475         2.0         9.0  \n",
       "476        12.0         9.0  \n",
       "477         2.0         9.0  \n",
       "478        12.0         9.0  \n",
       "479        12.0         2.0  \n",
       "480         2.0         2.0  \n",
       "481         2.0         9.0  \n",
       "482         2.0         9.0  \n",
       "483         2.0         9.0  \n",
       "484        12.0         9.0  \n",
       "485         2.0         9.0  \n",
       "486         2.0         9.0  \n",
       "487        12.0         9.0  \n",
       "488         2.0         9.0  \n",
       "489         2.0         2.0  \n",
       "490         2.0         9.0  \n",
       "491         2.0         9.0  \n",
       "492        12.0         9.0  \n",
       "493         2.0         9.0  \n",
       "494         2.0         2.0  \n",
       "495        12.0         9.0  \n",
       "496         2.0         0.0  \n",
       "497         2.0         0.0  \n",
       "498         2.0         9.0  \n",
       "499         2.0         0.0  \n",
       "\n",
       "[500 rows x 17752 columns]>"
      ]
     },
     "execution_count": 159,
     "metadata": {},
     "output_type": "execute_result"
    }
   ],
   "source": [
    "data.head\n"
   ]
  },
  {
   "cell_type": "code",
   "execution_count": 161,
   "metadata": {},
   "outputs": [],
   "source": [
    "dataframe = pandas.read_csv(\"newdata/HACK.first500.fixed.withheader.csv\", low_memory=False)"
   ]
  },
  {
   "cell_type": "code",
   "execution_count": 162,
   "metadata": {},
   "outputs": [],
   "source": [
    "array = dataframe.values\n",
    "X = array[:,4:]\n",
    "Y = array[:,2]\n",
    "Y=Y.astype('int')"
   ]
  },
  {
   "cell_type": "code",
   "execution_count": 163,
   "metadata": {},
   "outputs": [
    {
     "data": {
      "text/plain": [
       "array([[6.0, 7.0, 7.0, ..., 3.0, 2.0, 9.0],\n",
       "       [6.0, 4.0, 7.0, ..., 3.0, 12.0, 2.0],\n",
       "       [6.0, 4.0, 4.0, ..., 3.0, 2.0, 9.0],\n",
       "       ...,\n",
       "       [3.0, 4.0, 4.0, ..., 3.0, 2.0, 0.0],\n",
       "       [6.0, 7.0, 7.0, ..., 3.0, 2.0, 9.0],\n",
       "       [6.0, 4.0, 4.0, ..., 3.0, 2.0, 0.0]], dtype=object)"
      ]
     },
     "execution_count": 163,
     "metadata": {},
     "output_type": "execute_result"
    }
   ],
   "source": [
    "X"
   ]
  },
  {
   "cell_type": "code",
   "execution_count": 165,
   "metadata": {},
   "outputs": [
    {
     "name": "stdout",
     "output_type": "stream",
     "text": [
      "CART: 0.826000 (0.069886)\n"
     ]
    },
    {
     "data": {
      "image/png": "[encoded data removed]",
      "text/plain": [
       "<Figure size 432x288 with 1 Axes>"
      ]
     },
     "metadata": {},
     "output_type": "display_data"
    }
   ],
   "source": [
    "# prepare models\n",
    "models = []\n",
    "#models.append(('LR', LogisticRegression()))\n",
    "#models.append(('LDA', LinearDiscriminantAnalysis()))\n",
    "#models.append(('KNN', KNeighborsClassifier()))\n",
    "models.append(('CART', DecisionTreeClassifier()))\n",
    "#models.append(('NB', GaussianNB()))\n",
    "#models.append(('SVM', SVC()))\n",
    "# evaluate each model in turn\n",
    "results = []\n",
    "names = []\n",
    "scoring = 'accuracy'\n",
    "for name, model in models:\n",
    "\tkfold = model_selection.KFold(n_splits=10, random_state=42)\n",
    "\tcv_results = model_selection.cross_val_score(model, X, Y, cv=kfold, scoring=scoring)\n",
    "\tresults.append(cv_results)\n",
    "\tnames.append(name)\n",
    "\tmsg = \"%s: %f (%f)\" % (name, cv_results.mean(), cv_results.std())\n",
    "\tprint(msg)\n",
    "# boxplot algorithm comparison\n",
    "fig = plt.figure()\n",
    "fig.suptitle('Algorithm Comparison')\n",
    "ax = fig.add_subplot(111)\n",
    "plt.boxplot(results)\n",
    "ax.set_xticklabels(names)\n",
    "plt.show()"
   ]
  },
  {
   "cell_type": "code",
   "execution_count": 166,
   "metadata": {},
   "outputs": [],
   "source": [
    "from sklearn import svm\n",
    "clf = svm.SVC()\n",
    "#clf.fit(X, Y)  "
   ]
  },
  {
   "cell_type": "code",
   "execution_count": 168,
   "metadata": {},
   "outputs": [],
   "source": [
    "import pickle\n",
    "s = pickle.dumps(clf)\n",
    "clf2 = pickle.loads(s)\n",
    "#prediction = clf2.predict(X[0:1])"
   ]
  },
  {
   "cell_type": "code",
   "execution_count": null,
   "metadata": {},
   "outputs": [],
   "source": [
    "list(clf.predict(X[:3]))\n"
   ]
  },
  {
   "cell_type": "code",
   "execution_count": null,
   "metadata": {
    "collapsed": true
   },
   "outputs": [],
   "source": []
  },
  {
   "cell_type": "code",
   "execution_count": 244,
   "metadata": {},
   "outputs": [],
   "source": [
    "from sklearn import tree\n",
    "model = tree.DecisionTreeClassifier(criterion=\"entropy\",  max_depth=3, min_samples_leaf=5)\n",
    "from sklearn.model_selection import train_test_split\n",
    "X_train, X_test, y_train, y_test = train_test_split(X, Y, random_state=1, test_size = 0.3)"
   ]
  },
  {
   "cell_type": "code",
   "execution_count": 245,
   "metadata": {},
   "outputs": [
    {
     "data": {
      "text/plain": [
       "DecisionTreeClassifier(class_weight=None, criterion='entropy', max_depth=3,\n",
       "            max_features=None, max_leaf_nodes=None,\n",
       "            min_impurity_decrease=0.0, min_impurity_split=None,\n",
       "            min_samples_leaf=5, min_samples_split=2,\n",
       "            min_weight_fraction_leaf=0.0, presort=False, random_state=None,\n",
       "            splitter='best')"
      ]
     },
     "execution_count": 245,
     "metadata": {},
     "output_type": "execute_result"
    }
   ],
   "source": [
    "model.fit(X_train, y_train)"
   ]
  },
  {
   "cell_type": "markdown",
   "metadata": {},
   "source": [
    "model.fit(X_train, y_train)"
   ]
  },
  {
   "cell_type": "code",
   "execution_count": 246,
   "metadata": {},
   "outputs": [
    {
     "data": {
      "text/plain": [
       "0.8266666666666667"
      ]
     },
     "execution_count": 246,
     "metadata": {},
     "output_type": "execute_result"
    }
   ],
   "source": [
    "y_predict = model.predict(X_test)\n",
    "from sklearn.metrics import accuracy_score\n",
    "accuracy_score(y_test, y_predict)"
   ]
  },
  {
   "cell_type": "code",
   "execution_count": 247,
   "metadata": {},
   "outputs": [
    {
     "data": {
      "text/html": [
       "<div>\n",
       "<style scoped>\n",
       "    .dataframe tbody tr th:only-of-type {\n",
       "        vertical-align: middle;\n",
       "    }\n",
       "\n",
       "    .dataframe tbody tr th {\n",
       "        vertical-align: top;\n",
       "    }\n",
       "\n",
       "    .dataframe thead th {\n",
       "        text-align: right;\n",
       "    }\n",
       "</style>\n",
       "<table border=\"1\" class=\"dataframe\">\n",
       "  <thead>\n",
       "    <tr style=\"text-align: right;\">\n",
       "      <th></th>\n",
       "      <th>Predicted dark hair</th>\n",
       "      <th>Predicted light hair</th>\n",
       "    </tr>\n",
       "  </thead>\n",
       "  <tbody>\n",
       "    <tr>\n",
       "      <th>True Dark hair</th>\n",
       "      <td>55</td>\n",
       "      <td>17</td>\n",
       "    </tr>\n",
       "    <tr>\n",
       "      <th>True light hair</th>\n",
       "      <td>9</td>\n",
       "      <td>69</td>\n",
       "    </tr>\n",
       "  </tbody>\n",
       "</table>\n",
       "</div>"
      ],
      "text/plain": [
       "                 Predicted dark hair  Predicted light hair\n",
       "True Dark hair                    55                    17\n",
       "True light hair                    9                    69"
      ]
     },
     "execution_count": 247,
     "metadata": {},
     "output_type": "execute_result"
    }
   ],
   "source": [
    "from sklearn.metrics import confusion_matrix\n",
    "pd.DataFrame(\n",
    "    confusion_matrix(y_test, y_predict),\n",
    "    columns=['Predicted dark hair', 'Predicted light hair'],\n",
    "    index=['True Dark hair', 'True light hair']\n",
    ")"
   ]
  },
  {
   "cell_type": "code",
   "execution_count": 248,
   "metadata": {},
   "outputs": [
    {
     "data": {
      "text/plain": [
       "0"
      ]
     },
     "execution_count": 248,
     "metadata": {},
     "output_type": "execute_result"
    }
   ],
   "source": [
    "tree.export_graphviz(model, out_file='tree.dot',feature_names=dataframe.columns.values[4:])\n",
    "from subprocess import call\n",
    "\n",
    "call(['dot', '-T', 'png', 'tree.dot', '-o', 'tree.png'])"
   ]
  },
  {
   "cell_type": "code",
   "execution_count": null,
   "metadata": {},
   "outputs": [],
   "source": []
  },
  {
   "cell_type": "code",
   "execution_count": null,
   "metadata": {},
   "outputs": [],
   "source": []
  }
 ],
 "metadata": {
  "kernelspec": {
   "display_name": "Python 2",
   "language": "python",
   "name": "python2"
  },
  "language_info": {
   "codemirror_mode": {
    "name": "ipython",
    "version": 2
   },
   "file_extension": ".py",
   "mimetype": "text/x-python",
   "name": "python",
   "nbconvert_exporter": "python",
   "pygments_lexer": "ipython2",
   "version": "2.7.15rc1"
  }
 },
 "nbformat": 4,
 "nbformat_minor": 2
}
