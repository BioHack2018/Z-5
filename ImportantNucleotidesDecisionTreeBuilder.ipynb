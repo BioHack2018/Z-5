{
 "cells": [
  {
   "cell_type": "code",
   "execution_count": 616,
   "metadata": {},
   "outputs": [],
   "source": [
    "import numpy as np\n",
    "import os\n",
    "\n",
    "import pandas\n",
    "import matplotlib.pyplot as plt\n",
    "from sklearn import model_selection\n",
    "from sklearn.tree import DecisionTreeClassifier\n",
    "from sklearn import preprocessing\n",
    "\n",
    "# TEAM 5\n",
    "# Just step through all steps to see final outcome\n",
    "# Final outcome is list of polimorphism names that may affect color eyes\n",
    "\n",
    "# to make this notebook's output stable across runs\n",
    "np.random.seed(1)\n",
    "\n",
    "BIODATA_PATH=\"newdata/\"\n",
    "\n",
    "import numpy as np\n",
    "import pandas as pd\n",
    "import sklearn.linear_model\n"
   ]
  },
  {
   "cell_type": "code",
   "execution_count": 617,
   "metadata": {},
   "outputs": [],
   "source": [
    "#dataframe = pandas.read_csv(\"newdata/HACK_15_one.ped.csv\", low_memory=False,\n",
    "                       #     header=None,\n",
    "                       #     usecols=[0,1,4,5],\n",
    "                       #     names=[\"fId\",\"sid\",\"sex\",\"affected\"])\n",
    "dataframe = pandas.read_csv(\"newdata/result.ped.csv\",\n",
    "                            header=None)\n",
    "#ohe = preprocessing.OneHotEncoder(sparse=False)\n",
    "#cat_features = ['color', 'director_name', 'actor_2_name']\n",
    "#enc = preprocessing.OneHotEncoder(categorical_features=cat_features)\n",
    "#enc.fit(dataset.values)\n",
    "#for i in range(6,367):\n",
    "    \n",
    "#from sklearn import preprocessing\n",
    "#le = preprocessing.LabelEncoder()\n",
    "#df_encoded=dataframe.apply(le.fit_transform)\n"
   ]
  },
  {
   "cell_type": "code",
   "execution_count": 618,
   "metadata": {},
   "outputs": [],
   "source": [
    "dataframe2=pd.get_dummies(dataframe)"
   ]
  },
  {
   "cell_type": "code",
   "execution_count": 665,
   "metadata": {},
   "outputs": [],
   "source": [
    "dataframe2;"
   ]
  },
  {
   "cell_type": "code",
   "execution_count": 666,
   "metadata": {},
   "outputs": [],
   "source": [
    "dataframe2.columns[:100];"
   ]
  },
  {
   "cell_type": "code",
   "execution_count": 621,
   "metadata": {},
   "outputs": [],
   "source": [
    "array = dataframe2.values\n",
    "X = array[:-1,6:]\n",
    "Y = array[:-1,5]\n",
    "Y=Y.astype('int')\n",
    "X=X.astype('int')\n"
   ]
  },
  {
   "cell_type": "code",
   "execution_count": 655,
   "metadata": {},
   "outputs": [],
   "source": [
    "from sklearn import tree\n",
    "#clf = tree.DecisionTreeClassifier( max_depth=3)\n",
    "clf = tree.DecisionTreeClassifier( max_depth=3, min_samples_leaf=3)\n",
    "from sklearn.model_selection import train_test_split\n",
    "X_train, X_test, y_train, y_test = train_test_split(X, Y, test_size = 0.2)"
   ]
  },
  {
   "cell_type": "code",
   "execution_count": 656,
   "metadata": {},
   "outputs": [
    {
     "data": {
      "text/plain": [
       "DecisionTreeClassifier(class_weight=None, criterion='gini', max_depth=3,\n",
       "            max_features=None, max_leaf_nodes=None,\n",
       "            min_impurity_decrease=0.0, min_impurity_split=None,\n",
       "            min_samples_leaf=3, min_samples_split=2,\n",
       "            min_weight_fraction_leaf=0.0, presort=False, random_state=None,\n",
       "            splitter='best')"
      ]
     },
     "execution_count": 656,
     "metadata": {},
     "output_type": "execute_result"
    }
   ],
   "source": [
    "clf.fit(X_train, y_train)"
   ]
  },
  {
   "cell_type": "code",
   "execution_count": 667,
   "metadata": {},
   "outputs": [
    {
     "data": {
      "text/plain": [
       "1.0"
      ]
     },
     "execution_count": 667,
     "metadata": {},
     "output_type": "execute_result"
    }
   ],
   "source": [
    "y_predict = clf.predict(X_test)\n",
    "from sklearn.metrics import accuracy_score\n",
    "from sklearn.metrics import r2_score\n",
    "accuracy_score(y_test, y_predict)\n",
    "r2_score(y_test, y_predict)\n",
    "\n",
    "# Quite surprising value..."
   ]
  },
  {
   "cell_type": "code",
   "execution_count": 658,
   "metadata": {},
   "outputs": [
    {
     "data": {
      "text/plain": [
       "array([0, 0, 0, ..., 0, 0, 0])"
      ]
     },
     "execution_count": 658,
     "metadata": {},
     "output_type": "execute_result"
    }
   ],
   "source": [
    "y_predict"
   ]
  },
  {
   "cell_type": "code",
   "execution_count": 659,
   "metadata": {},
   "outputs": [
    {
     "data": {
      "text/plain": [
       "0"
      ]
     },
     "execution_count": 659,
     "metadata": {},
     "output_type": "execute_result"
    }
   ],
   "source": [
    "tree.export_graphviz(clf, out_file='tree.dot')\n",
    "from subprocess import call\n",
    "\n",
    "call(['dot', '-T', 'png', 'tree.dot', '-o', 'tree.png'])"
   ]
  },
  {
   "cell_type": "code",
   "execution_count": 660,
   "metadata": {},
   "outputs": [
    {
     "name": "stdout",
     "output_type": "stream",
     "text": [
      "Feature ranking:\n",
      "1. feature 6642 (0.906827)\n",
      "2. feature 6166 (0.083837)\n",
      "3. feature 6815 (0.009336)\n",
      "4. feature 2268 (0.000000)\n",
      "5. feature 2270 (0.000000)\n",
      "6. feature 2271 (0.000000)\n",
      "7. feature 2272 (0.000000)\n",
      "8. feature 2273 (0.000000)\n",
      "9. feature 2274 (0.000000)\n",
      "10. feature 2275 (0.000000)\n"
     ]
    }
   ],
   "source": [
    "\n",
    "importances = clf.feature_importances_\n",
    "std = np.std(clf.feature_importances_,axis=0)\n",
    "indices = np.argsort(importances)[::-1]\n",
    "\n",
    "# Print the feature ranking\n",
    "print(\"Feature ranking:\")\n",
    "\n",
    "for f in range(10):\n",
    "    print(\"%d. feature %d (%f)\" % (f + 1, indices[f], importances[indices[f]]))\n"
   ]
  },
  {
   "cell_type": "code",
   "execution_count": 668,
   "metadata": {},
   "outputs": [
    {
     "name": "stdout",
     "output_type": "stream",
     "text": [
      "1. feature 6642 (0.906827)\n",
      "Important polimorphism of single nucleotide(T) 'rs1382054' found\n",
      "2. feature 6166 (0.083837)\n",
      "Important polimorphism of single nucleotide(C) 'exm1161836' found\n"
     ]
    }
   ],
   "source": [
    "poliDF = pandas.read_csv(\"newdata/Kasia-poli.assoc.csv\",header=None)\n",
    "\n",
    "import math\n",
    "for f in range(10):\n",
    "    if importances[indices[f]] > 0.01:\n",
    "        print(\"%d. feature %d (%f)\" % (f + 1, indices[f], importances[indices[f]]))\n",
    "        allelNumber = dataframe2.columns[indices[f]].split('_')[0]\n",
    "        nucloLetter = dataframe2.columns[indices[f]].split('_')[1]\n",
    "        polimNumber = int(math.ceil(int(allelNumber)/2.))\n",
    "        poliName = poliDF[1][polimNumber]\n",
    "        print (\"Important polimorphism of single nucleotide(%s) '%s' found\" % ( nucloLetter, poliName) )\n"
   ]
  },
  {
   "cell_type": "code",
   "execution_count": null,
   "metadata": {},
   "outputs": [],
   "source": []
  },
  {
   "cell_type": "code",
   "execution_count": null,
   "metadata": {},
   "outputs": [],
   "source": []
  },
  {
   "cell_type": "code",
   "execution_count": null,
   "metadata": {},
   "outputs": [],
   "source": []
  },
  {
   "cell_type": "code",
   "execution_count": null,
   "metadata": {},
   "outputs": [],
   "source": []
  }
 ],
 "metadata": {
  "kernelspec": {
   "display_name": "Python 2",
   "language": "python",
   "name": "python2"
  },
  "language_info": {
   "codemirror_mode": {
    "name": "ipython",
    "version": 2
   },
   "file_extension": ".py",
   "mimetype": "text/x-python",
   "name": "python",
   "nbconvert_exporter": "python",
   "pygments_lexer": "ipython2",
   "version": "2.7.15rc1"
  }
 },
 "nbformat": 4,
 "nbformat_minor": 2
}
